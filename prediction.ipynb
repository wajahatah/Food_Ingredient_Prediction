{
  "nbformat": 4,
  "nbformat_minor": 0,
  "metadata": {
    "colab": {
      "provenance": []
    },
    "kernelspec": {
      "name": "python3",
      "display_name": "Python 3"
    },
    "language_info": {
      "name": "python"
    }
  },
  "cells": [
    {
      "cell_type": "code",
      "execution_count": null,
      "metadata": {
        "id": "TITffgTgPkvb"
      },
      "outputs": [],
      "source": [
        "import os\n",
        "import cv2\n",
        "import random\n",
        "import warnings\n",
        "import numpy as np\n",
        "import pandas as pd\n",
        "import seaborn as sns\n",
        "from termcolor import colored\n",
        "import matplotlib.pyplot as plt\n",
        "from keras.utils import plot_model\n",
        "from tensorflow.keras import optimizers\n",
        "from tensorflow.keras import models, layers\n",
        "from tensorflow.keras.applications import MobileNetV2\n",
        "from tensorflow.keras.preprocessing.image import ImageDataGenerator\n",
        "from tensorflow.keras.callbacks import EarlyStopping, ModelCheckpoint, ReduceLROnPlateau\n",
        "from sklearn.metrics import classification_report, confusion_matrix\n",
        "from google.colab.patches import cv2_imshow\n",
        "\n",
        "def predict_class(image_url,model):\n",
        "  class_names = ['apple', 'banana', 'beetroot', 'bell pepper', 'black paper', 'cabbage', 'capsicum', 'carrot', 'cauliflower', 'chana dal', 'chilli pepper', 'corn', 'cucumber', 'eggplant', 'garlic', 'ginger', 'grapes', 'jalepeno', 'kiwi', 'lemon', 'lettuce', 'long clove', 'mango', 'onion', 'orange', 'paprika', 'pear', 'peas', 'pineapple', 'pomegranate', 'potato', 'raddish', 'rice', 'soy beans', 'spinach', 'sweetcorn', 'sweetpotato', 'tomato', 'turnip', 'watermelon']\n",
        "  img = cv2.imread(image_url)\n",
        "  img = cv2.resize(img, (224,224), interpolation= cv2.INTER_LINEAR )\n",
        "  img = img / 255.0  # Normalize the image\n",
        "  pred = my_model.predict(np.expand_dims(img, axis=0))\n",
        "  my_class = class_names[np.argmax(pred, axis=1)[0]]\n",
        "  return my_class\n"
      ]
    },
    {
      "cell_type": "code",
      "source": [
        "my_model = models.load_model('/content/drive/MyDrive/arsal_cv_proj/new/Ingre_scan.keras')\n",
        "image_url = '/content/drive/MyDrive/arsal_cv_proj/delish-u-rice-2-1529079587.jpg'\n",
        "prediction = predict_class(image_url, my_model)\n",
        "print(\"Prediction:\",prediction)"
      ],
      "metadata": {
        "colab": {
          "base_uri": "https://localhost:8080/"
        },
        "id": "_e8HtgWSQnyz",
        "outputId": "3f4faa60-a79d-471a-d7a3-26313e211b60"
      },
      "execution_count": null,
      "outputs": [
        {
          "output_type": "stream",
          "name": "stdout",
          "text": [
            "1/1 [==============================] - 2s 2s/step\n",
            "Prediction: rice\n"
          ]
        }
      ]
    },
    {
      "cell_type": "code",
      "source": [],
      "metadata": {
        "id": "9HTsTR5vWgIy"
      },
      "execution_count": null,
      "outputs": []
    }
  ]
}